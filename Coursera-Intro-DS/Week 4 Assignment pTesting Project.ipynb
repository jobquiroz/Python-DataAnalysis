{
 "cells": [
  {
   "cell_type": "markdown",
   "metadata": {},
   "source": [
    "---\n",
    "\n",
    "_You are currently looking at **version 1.1** of this notebook. To download notebooks and datafiles, as well as get help on Jupyter notebooks in the Coursera platform, visit the [Jupyter Notebook FAQ](https://www.coursera.org/learn/python-data-analysis/resources/0dhYG) course resource._\n",
    "\n",
    "---"
   ]
  },
  {
   "cell_type": "code",
   "execution_count": 18,
   "metadata": {
    "collapsed": true
   },
   "outputs": [],
   "source": [
    "import pandas as pd\n",
    "import numpy as np\n",
    "from scipy.stats import ttest_ind"
   ]
  },
  {
   "cell_type": "markdown",
   "metadata": {},
   "source": [
    "# Assignment 4 - Hypothesis Testing\n",
    "This assignment requires more individual learning than previous assignments - you are encouraged to check out the [pandas documentation](http://pandas.pydata.org/pandas-docs/stable/) to find functions or methods you might not have used yet, or ask questions on [Stack Overflow](http://stackoverflow.com/) and tag them as pandas and python related. And of course, the discussion forums are open for interaction with your peers and the course staff.\n",
    "\n",
    "Definitions:\n",
    "* A _quarter_ is a specific three month period, Q1 is January through March, Q2 is April through June, Q3 is July through September, Q4 is October through December.\n",
    "* A _recession_ is defined as starting with two consecutive quarters of GDP decline, and ending with two consecutive quarters of GDP growth.\n",
    "* A _recession bottom_ is the quarter within a recession which had the lowest GDP.\n",
    "* A _university town_ is a city which has a high percentage of university students compared to the total population of the city.\n",
    "\n",
    "**Hypothesis**: University towns have their mean housing prices less effected by recessions. Run a t-test to compare the ratio of the mean price of houses in university towns the quarter before the recession starts compared to the recession bottom. (`price_ratio=quarter_before_recession/recession_bottom`)\n",
    "\n",
    "The following data files are available for this assignment:\n",
    "* From the [Zillow research data site](http://www.zillow.com/research/data/) there is housing data for the United States. In particular the datafile for [all homes at a city level](http://files.zillowstatic.com/research/public/City/City_Zhvi_AllHomes.csv), ```City_Zhvi_AllHomes.csv```, has median home sale prices at a fine grained level.\n",
    "* From the Wikipedia page on college towns is a list of [university towns in the United States](https://en.wikipedia.org/wiki/List_of_college_towns#College_towns_in_the_United_States) which has been copy and pasted into the file ```university_towns.txt```.\n",
    "* From Bureau of Economic Analysis, US Department of Commerce, the [GDP over time](http://www.bea.gov/national/index.htm#gdp) of the United States in current dollars (use the chained value in 2009 dollars), in quarterly intervals, in the file ```gdplev.xls```. For this assignment, only look at GDP data from the first quarter of 2000 onward.\n",
    "\n",
    "Each function in this assignment below is worth 10%, with the exception of ```run_ttest()```, which is worth 50%."
   ]
  },
  {
   "cell_type": "code",
   "execution_count": 19,
   "metadata": {
    "collapsed": true
   },
   "outputs": [],
   "source": [
    "# Use this dictionary to map state names to two letter acronyms\n",
    "states = {'OH': 'Ohio', 'KY': 'Kentucky', 'AS': 'American Samoa', 'NV': 'Nevada', 'WY': 'Wyoming', 'NA': 'National', 'AL': 'Alabama', 'MD': 'Maryland', 'AK': 'Alaska', 'UT': 'Utah', 'OR': 'Oregon', 'MT': 'Montana', 'IL': 'Illinois', 'TN': 'Tennessee', 'DC': 'District of Columbia', 'VT': 'Vermont', 'ID': 'Idaho', 'AR': 'Arkansas', 'ME': 'Maine', 'WA': 'Washington', 'HI': 'Hawaii', 'WI': 'Wisconsin', 'MI': 'Michigan', 'IN': 'Indiana', 'NJ': 'New Jersey', 'AZ': 'Arizona', 'GU': 'Guam', 'MS': 'Mississippi', 'PR': 'Puerto Rico', 'NC': 'North Carolina', 'TX': 'Texas', 'SD': 'South Dakota', 'MP': 'Northern Mariana Islands', 'IA': 'Iowa', 'MO': 'Missouri', 'CT': 'Connecticut', 'WV': 'West Virginia', 'SC': 'South Carolina', 'LA': 'Louisiana', 'KS': 'Kansas', 'NY': 'New York', 'NE': 'Nebraska', 'OK': 'Oklahoma', 'FL': 'Florida', 'CA': 'California', 'CO': 'Colorado', 'PA': 'Pennsylvania', 'DE': 'Delaware', 'NM': 'New Mexico', 'RI': 'Rhode Island', 'MN': 'Minnesota', 'VI': 'Virgin Islands', 'NH': 'New Hampshire', 'MA': 'Massachusetts', 'GA': 'Georgia', 'ND': 'North Dakota', 'VA': 'Virginia'}\n",
    "# new_states_dict = {}\n",
    "# for key,value in states.items():\n",
    "#     new_states_dict[value] = key\n",
    "# #new_states_dict"
   ]
  },
  {
   "cell_type": "code",
   "execution_count": 20,
   "metadata": {
    "collapsed": true,
    "umich_part_id": "021",
    "umich_partlist_id": "004"
   },
   "outputs": [],
   "source": [
    "def get_list_of_university_towns():\n",
    "    '''Returns a DataFrame of towns and the states they are in from the \n",
    "    university_towns.txt list. The format of the DataFrame should be:\n",
    "    DataFrame( [ [\"Michigan\", \"Ann Arbor\"], [\"Michigan\", \"Yipsilanti\"] ], \n",
    "    columns=[\"State\", \"RegionName\"]  )\n",
    "    \n",
    "    The following cleaning needs to be done:\n",
    "\n",
    "    1. For \"State\", removing characters from \"[\" to the end.\n",
    "    2. For \"RegionName\", when applicable, removing every character from \" (\" to the end.\n",
    "    3. Depending on how you read the data, you may need to remove newline character '\\n'. '''\n",
    "    \n",
    "    # Procesando .txt\n",
    "    Ucitys = open(\"university_towns.txt\", 'r').read().split('\\n')\n",
    "\n",
    "    # Bucle para crear listas en formato adecuado\n",
    "    L = []\n",
    "    for i in range(len(Ucitys)): # range(195, 215): \n",
    "        # Se detecta un nombre de estado\n",
    "        if Ucitys[i][-6:] == '[edit]':\n",
    "            last_state = Ucitys[i][:-6]\n",
    "            continue\n",
    "        # Se empareja ciudad con estados\n",
    "        locate_symbol = Ucitys[i].find('(')-1\n",
    "        if locate_symbol == -2:\n",
    "            town_name = Ucitys[i]\n",
    "        else:\n",
    "            town_name = Ucitys[i][:locate_symbol]\n",
    "        #print(town_name)\n",
    "        L.append([last_state, town_name])\n",
    "\n",
    "    df = pd.DataFrame(L[:-1], columns = [\"State\", \"RegionName\"])\n",
    "    # df['State'] = df['State'].apply(lambda x: new_states_dict[x])\n",
    "    return df\n",
    "\n",
    "#get_list_of_university_towns() #.iloc[90:120]"
   ]
  },
  {
   "cell_type": "code",
   "execution_count": 21,
   "metadata": {
    "collapsed": true
   },
   "outputs": [],
   "source": [
    "# import re\n",
    "# import pandas as pd\n",
    "# import numpy as np\n",
    "# # list of unique states\n",
    "# stateStr = \"\"\"\n",
    "# Ohio, Kentucky, American Samoa, Nevada, Wyoming\n",
    "# ,National, Alabama, Maryland, Alaska, Utah\n",
    "# ,Oregon, Montana, Illinois, Tennessee, District of Columbia\n",
    "# ,Vermont, Idaho, Arkansas, Maine, Washington\n",
    "# ,Hawaii, Wisconsin, Michigan, Indiana, New Jersey\n",
    "# ,Arizona, Guam, Mississippi, Puerto Rico, North Carolina\n",
    "# ,Texas, South Dakota, Northern Mariana Islands, Iowa, Missouri\n",
    "# ,Connecticut, West Virginia, South Carolina, Louisiana, Kansas\n",
    "# ,New York, Nebraska, Oklahoma, Florida, California\n",
    "# ,Colorado, Pennsylvania, Delaware, New Mexico, Rhode Island\n",
    "# ,Minnesota, Virgin Islands, New Hampshire, Massachusetts, Georgia\n",
    "# ,North Dakota, Virginia\n",
    "# \"\"\"\n",
    "# #list of regionName entries string length\n",
    "# regNmLenStr = \"\"\"\n",
    "# 06,08,12,10,10,04,10,08,09,09,05,06,11,06,12,09,08,10,12,06,\n",
    "# 06,06,08,05,09,06,05,06,10,28,06,06,09,06,08,09,10,35,09,15,\n",
    "# 13,10,07,21,08,07,07,07,12,06,14,07,08,16,09,10,11,09,10,06,\n",
    "# 11,05,06,09,10,12,06,06,11,07,08,13,07,11,05,06,06,07,10,08,\n",
    "# 11,08,13,12,06,04,08,10,08,07,12,05,06,09,07,10,16,10,06,12,\n",
    "# 08,07,06,06,06,11,14,11,07,06,06,12,08,10,11,06,10,14,04,11,\n",
    "# 18,07,07,08,09,06,13,11,12,10,07,12,07,04,08,09,09,13,08,10,\n",
    "# 16,09,10,08,06,08,12,07,11,09,07,09,06,12,06,09,07,10,09,10,\n",
    "# 09,06,15,05,10,09,11,12,10,10,09,13,06,09,11,06,11,09,13,37,\n",
    "# 06,13,06,09,49,07,11,12,09,11,11,07,12,10,06,06,09,04,09,15,\n",
    "# 10,12,05,09,08,09,09,07,14,06,07,16,12,09,07,09,06,32,07,08,\n",
    "# 08,06,10,36,09,10,09,06,09,11,09,06,10,07,14,08,07,06,10,09,\n",
    "# 05,11,07,06,08,07,05,07,07,04,06,05,09,04,25,06,07,08,05,08,\n",
    "# 06,05,11,09,07,07,06,13,09,05,16,05,10,09,08,11,06,06,06,10,\n",
    "# 09,07,06,07,10,05,08,07,06,08,06,30,09,07,06,11,07,12,08,09,\n",
    "# 16,12,11,08,06,04,10,10,15,05,11,11,09,08,06,04,10,10,07,09,\n",
    "# 11,08,26,07,13,05,11,03,08,07,06,05,08,13,10,08,08,08,07,07,\n",
    "# 09,05,04,11,11,07,06,10,11,03,04,06,06,08,08,06,10,09,05,11,\n",
    "# 07,09,06,12,13,09,10,11,08,07,07,08,09,10,08,10,08,56,07,12,\n",
    "# 07,16,08,04,10,10,10,10,07,09,08,09,09,10,07,09,09,09,12,14,\n",
    "# 10,29,19,07,11,12,13,13,09,10,12,12,12,08,10,07,10,07,07,08,\n",
    "# 08,08,09,10,09,11,09,07,09,10,11,11,10,09,09,12,09,06,08,07,\n",
    "# 12,09,07,07,06,06,08,06,15,08,06,06,10,10,10,07,05,10,07,11,\n",
    "# 09,12,10,12,04,10,05,05,04,14,07,10,09,07,11,10,10,10,11,15,\n",
    "# 09,14,12,09,09,07,12,04,10,10,06,10,07,28,06,10,08,09,10,10,\n",
    "# 10,13,12,08,10,09,09,07,09,09,07,11,11,13,08,10,07\n",
    "# \"\"\"\n",
    "\n",
    "# df = get_list_of_university_towns()\n",
    "\n",
    "# cols = [\"State\", \"RegionName\"]\n",
    "\n",
    "# print('Shape test: ', \"Passed\" if df.shape ==\n",
    "#       (517, 2) else 'Failed')\n",
    "# print('Index test: ',\n",
    "#       \"Passed\" if df.index.tolist() == list(range(517))\n",
    "#       else 'Failed')\n",
    "\n",
    "# print('Column test: ',\n",
    "#       \"Passed\" if df.columns.tolist() == cols else 'Failed')\n",
    "# print('\\\\n test: ',\n",
    "#       \"Failed\" if any(df[cols[0]].str.contains(\n",
    "#           '\\n')) or any(df[cols[1]].str.contains('\\n'))\n",
    "#       else 'Passed')\n",
    "# print('Trailing whitespace test:',\n",
    "#       \"Failed\" if any(df[cols[0]].str.contains(\n",
    "#           '\\s+$')) or any(df[cols[1]].str.contains(\n",
    "#               '\\s+$'))\n",
    "#       else 'Passed')\n",
    "# print('\"(\" test:',\n",
    "#       \"Failed\" if any(df[cols[0]].str.contains(\n",
    "#           '\\(')) or any(df[cols[1]].str.contains(\n",
    "#               '\\('))\n",
    "#       else 'Passed')\n",
    "# print('\"[\" test:',\n",
    "#       \"Failed\" if any(df[cols[0]].str.contains(\n",
    "#           '\\[')) or any(df[cols[1]].str.contains(\n",
    "#               '\\]'))\n",
    "#       else 'Passed')\n",
    "\n",
    "# states_vlist = [st.strip() for st in stateStr.split(',')]\n",
    "\n",
    "# mismatchedStates = df[~df['State'].isin(\n",
    "#     states_vlist)].loc[:, 'State'].unique()\n",
    "# print('State test: ', \"Passed\" if len(\n",
    "#     mismatchedStates) == 0 else \"Failed\")\n",
    "# if len(mismatchedStates) > 0:\n",
    "#     print()\n",
    "#     print('The following states failed the equality test:')\n",
    "#     print()\n",
    "#     print('\\n'.join(mismatchedStates))\n",
    "\n",
    "# df['expected_length'] = [int(s.strip())\n",
    "#                          for s in regNmLenStr.split(',')\n",
    "#                          if s.strip().isdigit()]\n",
    "# regDiff = df[df['RegionName'].str.len() != df['expected_length']].loc[\n",
    "#     :, ['RegionName', 'expected_length']]\n",
    "# regDiff['actual_length'] = regDiff['RegionName'].str.len()\n",
    "# print('RegionName test: ', \"Passed\" if len(regDiff) ==\n",
    "#       0 else ' \\nMismatching regionNames\\n {}'.format(regDiff))\n"
   ]
  },
  {
   "cell_type": "markdown",
   "metadata": {},
   "source": [
    "A recession is defined as starting with two consecutive quarters of GDP decline, and ending with two consecutive quarters of GDP growth.\n",
    "\n",
    "A recession bottom is the quarter within a recession which had the lowest GDP."
   ]
  },
  {
   "cell_type": "code",
   "execution_count": 22,
   "metadata": {
    "collapsed": true,
    "umich_part_id": "022",
    "umich_partlist_id": "004"
   },
   "outputs": [],
   "source": [
    "def get_recession_start():\n",
    "    '''Returns the year and quarter of the recession start time as a \n",
    "    string value in a format such as 2005q3'''\n",
    "    GDP_df = pd.read_excel('gdplev.xls', usecols = ['Unnamed: 4', 'Unnamed: 6'], header = 6) # , index_col = 4, header = 1)\n",
    "    GDP_df.columns = [\"Quarter\",\"GDP in billions of chained 2009 dollars\"]\n",
    "    GDP_df = GDP_df[GDP_df.Quarter >= \"2000q1\"].reset_index()\n",
    "    GDP_df.drop('index', axis = 1, inplace = True)\n",
    "    # Variables... \n",
    "    gdp_2 = 0\n",
    "    gdp_1 = 0\n",
    "    i = 0\n",
    "    for gdp in GDP_df['GDP in billions of chained 2009 dollars']:\n",
    "        gdp_0 = gdp\n",
    "        if gdp_2 > gdp_1 > gdp_0:\n",
    "            return(GDP_df['Quarter'].iloc[i-1]) #\n",
    "            #break\n",
    "        else:\n",
    "            gdp_2 = gdp_1\n",
    "            gdp_1 = gdp_0\n",
    "            i += 1\n",
    "    return None\n",
    "\n",
    "#get_recession_start()"
   ]
  },
  {
   "cell_type": "code",
   "execution_count": 23,
   "metadata": {
    "collapsed": true
   },
   "outputs": [],
   "source": [
    "# import matplotlib.pyplot as plt\n",
    "\n",
    "# plt.plot(GDP_df['GDP in billions of chained 2009 dollars'][30:45], '.')\n",
    "# plt.show()"
   ]
  },
  {
   "cell_type": "code",
   "execution_count": 24,
   "metadata": {
    "collapsed": true,
    "umich_part_id": "023",
    "umich_partlist_id": "004"
   },
   "outputs": [],
   "source": [
    "def get_recession_end():\n",
    "    '''Returns the year and quarter of the recession end time as a \n",
    "    string value in a format such as 2005q3'''\n",
    "    \n",
    "    GDP_df = pd.read_excel('gdplev.xls', usecols = ['Unnamed: 4', 'Unnamed: 6'], header = 6) # , index_col = 4, header = 1)\n",
    "    GDP_df.columns = [\"Quarter\",\"GDP in billions of chained 2009 dollars\"]\n",
    "    GDP_df = GDP_df[GDP_df.Quarter >= \"2000q1\"].reset_index()\n",
    "    GDP_df.drop('index', axis = 1, inplace = True)\n",
    "    \n",
    "    # Starting from recession start\n",
    "    GDP_df = GDP_df[GDP_df.Quarter >= '2008q3'] # get_recession_start() ]\n",
    "    \n",
    "    gdp_2 = 0\n",
    "    gdp_1 = 0\n",
    "    i = 0\n",
    "    for gdp in GDP_df['GDP in billions of chained 2009 dollars']:\n",
    "        gdp_0 = gdp\n",
    "        if gdp_0 > gdp_1 > gdp_2:\n",
    "            return(GDP_df['Quarter'].iloc[i])\n",
    "        else:\n",
    "            gdp_2 = gdp_1\n",
    "            gdp_1 = gdp_0\n",
    "            i += 1\n",
    "    return None\n",
    "\n",
    "#get_recession_end()"
   ]
  },
  {
   "cell_type": "code",
   "execution_count": 25,
   "metadata": {
    "collapsed": true,
    "umich_part_id": "024",
    "umich_partlist_id": "004"
   },
   "outputs": [],
   "source": [
    "def get_recession_bottom():\n",
    "    '''Returns the year and quarter of the recession bottom time as a \n",
    "    string value in a format such as 2005q3'''\n",
    "    # Getting DF\n",
    "    GDP_df = pd.read_excel('gdplev.xls', usecols = ['Unnamed: 4', 'Unnamed: 6'], header = 6) # , index_col = 4, header = 1)\n",
    "    GDP_df.columns = [\"Quarter\",\"GDP in billions of chained 2009 dollars\"]\n",
    "    GDP_df = GDP_df[GDP_df.Quarter >= \"2000q1\"].reset_index()\n",
    "    GDP_df.drop('index', axis = 1, inplace = True)\n",
    "    # Starting from recession start up until recession ends\n",
    "    GDP_df = GDP_df[(GDP_df.Quarter >= '2008q3') & (GDP_df.Quarter <= '2009q4')]\n",
    "    # Arg min on GDP, then retrieve Quarter\n",
    "    Bottom = GDP_df.Quarter.loc[ GDP_df['GDP in billions of chained 2009 dollars'].idxmin() ]\n",
    "    return Bottom\n",
    "\n",
    "#get_recession_bottom()"
   ]
  },
  {
   "cell_type": "code",
   "execution_count": 26,
   "metadata": {
    "collapsed": true,
    "umich_part_id": "025",
    "umich_partlist_id": "004"
   },
   "outputs": [],
   "source": [
    "def convert_housing_data_to_quarters():\n",
    "    '''Converts the housing data to quarters and returns it as mean \n",
    "    values in a dataframe. This dataframe should be a dataframe with\n",
    "    columns for 2000q1 through 2016q3, and should have a multi-index\n",
    "    in the shape of [\"State\",\"RegionName\"].\n",
    "    \n",
    "    Note: Quarters are defined in the assignment description, they are\n",
    "    not arbitrary three month periods.\n",
    "    \n",
    "    The resulting dataframe should have 67 columns, and 10,730 rows.\n",
    "    '''\n",
    "    houses_df = pd.read_csv('City_Zhvi_AllHomes.csv')\n",
    "    # Se eliminan columnas que no quiero\n",
    "    houses_df.drop(['RegionID', 'Metro', 'CountyName', 'SizeRank'], axis = 1, inplace = True)\n",
    "    houses_df.drop([c for c in houses_df.columns if c < '2000-01'], axis = 1, inplace = True)\n",
    "    houses_df['State'] = houses_df['State'].apply(lambda x: states[x])\n",
    "    # Setting multiindex\n",
    "    houses_df = houses_df.set_index(['State', 'RegionName'])\n",
    "    houses_df.sort_index(inplace = True)\n",
    "\n",
    "    # Lista todas las columnas númericas\n",
    "    Year_months = list( houses_df.columns )\n",
    "\n",
    "    # Generador de quarters\n",
    "    Quarters = []\n",
    "    for year in range(2000, 2017):\n",
    "        for q in range(1,5):\n",
    "            Quarters.append(str(year) + 'q' + str(q))        \n",
    "    # Se quita ultimo quarter\n",
    "    Quarters = Quarters[:-1]\n",
    "\n",
    "    Quarters_months = []\n",
    "    # Generador de meses asociados a quarter\n",
    "    for q in Quarters:\n",
    "        Quarters_months.append([q, list(map(lambda x: q[:4] + '-' + str(x).zfill(2), list((int(q[-1]) - 1)*3 + np.arange(1,4))))])\n",
    "\n",
    "    # Se modifica caso especial del último cuarto\n",
    "    Quarters_months[-1] = ['2016q3', ['2016-07', '2016-08']] \n",
    "\n",
    "    # Se crean nuevas columnas con promedio y se eliminan otras\n",
    "    for q in Quarters_months:\n",
    "        cols = np.array(q[1:][0])\n",
    "        houses_df[q[0]] = houses_df[cols].mean(axis = 1)\n",
    "        houses_df.drop(cols, axis = 1, inplace = True)\n",
    "    \n",
    "    return houses_df\n",
    "\n",
    "# convert_housing_data_to_quarters().loc[\"Texas\"].loc[\"Austin\"].loc[\"2010q3\"]"
   ]
  },
  {
   "cell_type": "markdown",
   "metadata": {},
   "source": [
    "**Hypothesis**: University towns have their mean housing prices less effected by recessions. Run a t-test to compare the ratio of the mean price of houses in university towns the quarter before the recession starts compared to the recession bottom. (`price_ratio=quarter_before_recession/recession_bottom`)"
   ]
  },
  {
   "cell_type": "code",
   "execution_count": 27,
   "metadata": {
    "collapsed": true
   },
   "outputs": [],
   "source": [
    "# # Data of the decline of growth of housing prices between the recesion start and the recession bottom. \n",
    "# Housing_data = convert_housing_data_to_quarters()\n",
    "# quarter_before_recession = '2008q2'\n",
    "# recession_bottom = get_recession_bottom()\n",
    "# not_useful_quaters = [x for x in Housing_data.columns if (x < quarter_before_recession) or (x > recession_bottom)]\n",
    "\n",
    "\n",
    "# # Eliminando lo que no nos importa...\n",
    "# Housing_data.drop(not_useful_quaters, axis = 1, inplace = True)\n",
    "                  \n",
    "# Housing_data['Price_ratio'] = Housing_data[quarter_before_recession] / Housing_data[recession_bottom]\n",
    "\n",
    "# # Se eliminan donde price_ratio es nan...\n",
    "# Housing_data = Housing_data[Housing_data['Price_ratio'].notnull()]\n",
    "\n",
    "# Housing_data.head()\n",
    "# #Housing_data['Price_ratio'].describe()"
   ]
  },
  {
   "cell_type": "code",
   "execution_count": 28,
   "metadata": {
    "collapsed": true
   },
   "outputs": [],
   "source": [
    "# # Accediendo a housing data de uni_towns..\n",
    "# Array_1 = np.array(uni_towns['State'])\n",
    "# Array_2 = np.array(uni_towns['RegionName'])\n",
    "# I = pd.MultiIndex.from_arrays([Array_1, Array_2], names = ('State', 'RegionName'))\n",
    "\n",
    "# Housing_data_uni_towns = Housing_data.loc[I]\n",
    "# Housing_data_uni_towns.dropna(how = 'all', inplace = True)\n",
    "# Housing_data_uni_towns"
   ]
  },
  {
   "cell_type": "code",
   "execution_count": 29,
   "metadata": {
    "collapsed": true
   },
   "outputs": [],
   "source": [
    "# Housing_data_not_uni_towns = Housing_data.drop(I, axis = 0)\n",
    "# Housing_data_not_uni_towns"
   ]
  },
  {
   "cell_type": "code",
   "execution_count": 30,
   "metadata": {
    "collapsed": true
   },
   "outputs": [],
   "source": [
    "# # Verificanco división\n",
    "# print(Housing_data.shape)\n",
    "# print(Housing_data_uni_towns.shape)\n",
    "# print(Housing_data_not_uni_towns.shape)"
   ]
  },
  {
   "cell_type": "code",
   "execution_count": 31,
   "metadata": {
    "collapsed": true
   },
   "outputs": [],
   "source": [
    "#Housing_data_uni_towns['Price_ratio'].mean()"
   ]
  },
  {
   "cell_type": "code",
   "execution_count": 32,
   "metadata": {
    "collapsed": true
   },
   "outputs": [],
   "source": [
    "#Housing_data_not_uni_towns['Price_ratio'].mean()"
   ]
  },
  {
   "cell_type": "code",
   "execution_count": 33,
   "metadata": {
    "collapsed": true
   },
   "outputs": [],
   "source": [
    "# s,p = ttest_ind(Housing_data_uni_towns['Price_ratio'], Housing_data_not_uni_towns['Price_ratio'] )"
   ]
  },
  {
   "cell_type": "code",
   "execution_count": 35,
   "metadata": {
    "umich_part_id": "026",
    "umich_partlist_id": "004"
   },
   "outputs": [
    {
     "data": {
      "text/plain": [
       "(True, 0.002724063704761164, 'university town')"
      ]
     },
     "execution_count": 35,
     "metadata": {},
     "output_type": "execute_result"
    }
   ],
   "source": [
    "def run_ttest():\n",
    "    '''First creates new data showing the decline or growth of housing prices\n",
    "    between the recession start and the recession bottom. Then runs a ttest\n",
    "    comparing the university town values to the non-university towns values, \n",
    "    return whether the alternative hypothesis (that the two groups are the same)\n",
    "    is true or not as well as the p-value of the confidence. \n",
    "    \n",
    "    Return the tuple (different, p, better) where different=True if the t-test is\n",
    "    True at a p<0.01 (we reject the null hypothesis), or different=False if \n",
    "    otherwise (we cannot reject the null hypothesis). The variable p should\n",
    "    be equal to the exact p value returned from scipy.stats.ttest_ind(). The\n",
    "    value for better should be either \"university town\" or \"non-university town\"\n",
    "    depending on which has a lower mean price ratio (which is equivilent to a\n",
    "    reduced market loss).'''\n",
    "    # Data of the decline of growth of housing prices between the recesion start and the recession bottom. \n",
    "    Housing_data = convert_housing_data_to_quarters()\n",
    "    quarter_before_recession = '2008q2'\n",
    "    recession_bottom = get_recession_bottom()\n",
    "    not_useful_quaters = [x for x in Housing_data.columns if (x < quarter_before_recession) or (x > recession_bottom)]\n",
    "\n",
    "    # Eliminando lo que no nos importa...\n",
    "    Housing_data.drop(not_useful_quaters, axis = 1, inplace = True)\n",
    "    Housing_data['Price_ratio'] = Housing_data[quarter_before_recession] / Housing_data[recession_bottom]\n",
    "\n",
    "    # Se eliminan donde price_ratio es nan...\n",
    "    Housing_data = Housing_data[Housing_data['Price_ratio'].notnull()]\n",
    "\n",
    "    # Accediendo a housing data de uni_towns..\n",
    "    uni_towns = get_list_of_university_towns()\n",
    "    Array_1 = np.array(uni_towns['State'])\n",
    "    Array_2 = np.array(uni_towns['RegionName'])\n",
    "    I = pd.MultiIndex.from_arrays([Array_1, Array_2], names = ('State', 'RegionName'))\n",
    "    # Accediendo a multiindex creado\n",
    "    Housing_data_uni_towns = Housing_data.loc[I]\n",
    "    # Elimnando nan\n",
    "    Housing_data_uni_towns.dropna(how = 'all', inplace = True)\n",
    "    # No university town\n",
    "    Housing_data_not_uni_towns = Housing_data.drop(I, axis = 0)\n",
    "    \n",
    "    # Ttest\n",
    "    s,p = ttest_ind(Housing_data_uni_towns['Price_ratio'], Housing_data_not_uni_towns['Price_ratio'])\n",
    "    different = p < 0.01\n",
    "    better = \"university town\" if different else \"non-university town\"\n",
    "    return different, p, better\n",
    "\n",
    "run_ttest()"
   ]
  }
 ],
 "metadata": {
  "coursera": {
   "course_slug": "python-data-analysis",
   "graded_item_id": "Il9Fx",
   "launcher_item_id": "TeDW0",
   "part_id": "WGlun"
  },
  "kernelspec": {
   "display_name": "Python 3",
   "language": "python",
   "name": "python3"
  },
  "language_info": {
   "codemirror_mode": {
    "name": "ipython",
    "version": 3
   },
   "file_extension": ".py",
   "mimetype": "text/x-python",
   "name": "python",
   "nbconvert_exporter": "python",
   "pygments_lexer": "ipython3",
   "version": "3.6.2"
  },
  "umich": {
   "id": "Assignment 4",
   "version": "1.1"
  }
 },
 "nbformat": 4,
 "nbformat_minor": 1
}
